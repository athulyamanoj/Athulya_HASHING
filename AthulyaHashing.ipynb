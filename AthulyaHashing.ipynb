{
  "nbformat": 4,
  "nbformat_minor": 0,
  "metadata": {
    "colab": {
      "name": "Untitled0.ipynb",
      "provenance": []
    },
    "kernelspec": {
      "name": "python3",
      "display_name": "Python 3"
    },
    "language_info": {
      "name": "python"
    }
  },
  "cells": [
    {
      "cell_type": "code",
      "metadata": {
        "colab": {
          "base_uri": "https://localhost:8080/"
        },
        "id": "MjM5np9qe64_",
        "outputId": "d2efd58a-149e-4860-f73f-93a2262eed98"
      },
      "source": [
        "import hashlib\n",
        "\n",
        "hash = \"I am Harsh\"\n",
        "\n",
        "result = hashlib.md5(hash.encode())\n",
        "\n",
        "print(\"The hexadecimal equivalent of hash is : \", end =\"\")\n",
        "print(result.hexdigest())"
      ],
      "execution_count": 1,
      "outputs": [
        {
          "output_type": "stream",
          "text": [
            "The hexadecimal equivalent of hash is : e0b7228ac01c09860018c61a3c9ae77a\n"
          ],
          "name": "stdout"
        }
      ]
    }
  ]
}